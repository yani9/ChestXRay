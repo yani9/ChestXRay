{
 "cells": [
  {
   "cell_type": "markdown",
   "id": "0a357ceb",
   "metadata": {},
   "source": [
    "### Chest X-Ray Images (Pneumonia)\n",
    "### Transfer Learning:ResNets"
   ]
  },
  {
   "cell_type": "code",
   "execution_count": 34,
   "id": "c0ddf9aa",
   "metadata": {},
   "outputs": [],
   "source": [
    "import pandas as pd       \n",
    "import matplotlib as mat\n",
    "import matplotlib.pyplot as plt    \n",
    "import numpy as np\n",
    "import seaborn as sns\n",
    "%matplotlib inline\n",
    "\n",
    "pd.options.display.max_colwidth = 100\n",
    "\n",
    "import random\n",
    "import os\n",
    "\n",
    "from numpy.random import seed\n",
    "seed(42)\n",
    "\n",
    "random.seed(42)\n",
    "os.environ['PYTHONHASHSEED'] = str(42)\n",
    "os.environ['TF_DETERMINISTIC_OPS'] = '1'\n",
    "\n",
    "from sklearn.model_selection import train_test_split\n",
    "from sklearn import metrics\n",
    "from sklearn.metrics import accuracy_score\n",
    "\n",
    "import tensorflow as tf\n",
    "from tensorflow import keras\n",
    "from tensorflow.keras import layers\n",
    "from tensorflow.keras import callbacks\n",
    "from tensorflow.keras.models import Model\n",
    "from tensorflow.keras.preprocessing.image import ImageDataGenerator\n",
    "\n",
    "import glob\n",
    "import cv2\n",
    "\n",
    "from tensorflow.random import set_seed\n",
    "set_seed(42)\n",
    "\n",
    "import warnings\n",
    "warnings.filterwarnings('ignore')"
   ]
  },
  {
   "cell_type": "markdown",
   "id": "3b3cdf74",
   "metadata": {},
   "source": [
    "### import donnée Chest X-Ray Images"
   ]
  },
  {
   "cell_type": "code",
   "execution_count": 2,
   "id": "3c6eaa1a",
   "metadata": {},
   "outputs": [],
   "source": [
    "IMG_SIZE = 224\n",
    "BATCH = 32\n",
    "SEED = 42"
   ]
  },
  {
   "cell_type": "code",
   "execution_count": 4,
   "id": "63575690",
   "metadata": {},
   "outputs": [],
   "source": [
    "#main_path = \"../input/chest-xray-pneumonia/chest_xray/\"\n",
    "main_path = \"./chest_xray\"\n",
    "\n",
    "\n",
    "train_path = os.path.join(main_path,\"train\")\n",
    "test_path=os.path.join(main_path,\"test\")\n",
    "\n",
    "train_normal = glob.glob(train_path+\"/NORMAL/*.jpeg\")\n",
    "train_pneumonia = glob.glob(train_path+\"/PNEUMONIA/*.jpeg\")\n",
    "\n",
    "test_normal = glob.glob(test_path+\"/NORMAL/*.jpeg\")\n",
    "test_pneumonia = glob.glob(test_path+\"/PNEUMONIA/*.jpeg\")"
   ]
  },
  {
   "cell_type": "code",
   "execution_count": 5,
   "id": "c00e5a6e",
   "metadata": {},
   "outputs": [],
   "source": [
    "train_list = [x for x in train_normal]\n",
    "train_list.extend([x for x in train_pneumonia])\n",
    "\n",
    "df_train = pd.DataFrame(np.concatenate([['Normal']*len(train_normal) , ['Pneumonia']*len(train_pneumonia)]), columns = ['class'])\n",
    "df_train['image'] = [x for x in train_list]\n",
    "\n",
    "test_list = [x for x in test_normal]\n",
    "test_list.extend([x for x in test_pneumonia])\n",
    "\n",
    "df_test = pd.DataFrame(np.concatenate([['Normal']*len(test_normal) , ['Pneumonia']*len(test_pneumonia)]), columns = ['class'])\n",
    "df_test['image'] = [x for x in test_list]"
   ]
  },
  {
   "cell_type": "code",
   "execution_count": 32,
   "id": "8e42ec38",
   "metadata": {},
   "outputs": [],
   "source": [
    "train_data=df_train"
   ]
  },
  {
   "cell_type": "code",
   "execution_count": 8,
   "id": "b8adc86d",
   "metadata": {},
   "outputs": [
    {
     "data": {
      "image/png": "[encoded data removed]",
      "text/plain": [
       "<Figure size 432x288 with 1 Axes>"
      ]
     },
     "metadata": {
      "needs_background": "light"
     },
     "output_type": "display_data"
    }
   ],
   "source": [
    "plt.figure(figsize=(6,4))\n",
    "\n",
    "ax = sns.countplot(x='class', data=df_train, palette=\"viridis\")\n",
    "\n",
    "plt.xlabel(\"Class\", fontsize= 12)\n",
    "plt.ylabel(\"# of Samples\", fontsize= 12)\n",
    "plt.ylim(0,5000)\n",
    "plt.xticks([0,1], ['Normal', 'Pneumonia'], fontsize = 11)\n",
    "\n",
    "for p in ax.patches:\n",
    "    ax.annotate((p.get_height()), (p.get_x()+0.30, p.get_height()+300), fontsize = 13)\n",
    "    \n",
    "plt.show()"
   ]
  },
  {
   "cell_type": "code",
   "execution_count": 12,
   "id": "e2fcd705",
   "metadata": {},
   "outputs": [
    {
     "data": {
      "image/png": "[encoded data removed]",
      "text/plain": [
       "<Figure size 432x288 with 1 Axes>"
      ]
     },
     "metadata": {
      "needs_background": "light"
     },
     "output_type": "display_data"
    }
   ],
   "source": [
    "plt.figure(figsize=(6,4))\n",
    "\n",
    "ax = sns.countplot(x='class', data=df_test, palette=\"viridis\")\n",
    "\n",
    "plt.xlabel(\"Class\", fontsize= 12)\n",
    "plt.ylabel(\"# of Samples\", fontsize= 12)\n",
    "plt.ylim(0,500)\n",
    "plt.xticks([0,1], ['Normal', 'Pneumonia'], fontsize = 11)\n",
    "\n",
    "for p in ax.patches:\n",
    "    ax.annotate((p.get_height()), (p.get_x()+0.32, p.get_height()+20), fontsize = 13)\n",
    "    \n",
    "plt.show()"
   ]
  },
  {
   "cell_type": "code",
   "execution_count": 10,
   "id": "5be701bd",
   "metadata": {},
   "outputs": [],
   "source": [
    "train_df, val_df = train_test_split(df_train, test_size = 0.20, random_state = SEED, stratify = df_train['class'])"
   ]
  },
  {
   "cell_type": "code",
   "execution_count": 11,
   "id": "8436565e",
   "metadata": {},
   "outputs": [],
   "source": [
    "result=pd.concat([train_df,val_df,df_test],axis=0,keys=['train', 'validation', 'test'])"
   ]
  },
  {
   "cell_type": "code",
   "execution_count": 12,
   "id": "26b39b18",
   "metadata": {},
   "outputs": [
    {
     "data": {
      "text/html": [
       "<div>\n",
       "<style scoped>\n",
       "    .dataframe tbody tr th:only-of-type {\n",
       "        vertical-align: middle;\n",
       "    }\n",
       "\n",
       "    .dataframe tbody tr th {\n",
       "        vertical-align: top;\n",
       "    }\n",
       "\n",
       "    .dataframe thead th {\n",
       "        text-align: right;\n",
       "    }\n",
       "</style>\n",
       "<table border=\"1\" class=\"dataframe\">\n",
       "  <thead>\n",
       "    <tr style=\"text-align: right;\">\n",
       "      <th></th>\n",
       "      <th></th>\n",
       "      <th>class</th>\n",
       "      <th>image</th>\n",
       "    </tr>\n",
       "  </thead>\n",
       "  <tbody>\n",
       "    <tr>\n",
       "      <th rowspan=\"5\" valign=\"top\">train</th>\n",
       "      <th>3566</th>\n",
       "      <td>Pneumonia</td>\n",
       "      <td>./chest_xray/train/PNEUMONIA/BACTERIA-9044474-0002.jpeg</td>\n",
       "    </tr>\n",
       "    <tr>\n",
       "      <th>2866</th>\n",
       "      <td>Pneumonia</td>\n",
       "      <td>./chest_xray/train/PNEUMONIA/VIRUS-6149071-0005.jpeg</td>\n",
       "    </tr>\n",
       "    <tr>\n",
       "      <th>2681</th>\n",
       "      <td>Pneumonia</td>\n",
       "      <td>./chest_xray/train/PNEUMONIA/BACTERIA-3309082-0001.jpeg</td>\n",
       "    </tr>\n",
       "    <tr>\n",
       "      <th>1199</th>\n",
       "      <td>Normal</td>\n",
       "      <td>./chest_xray/train/NORMAL/NORMAL-6433176-0001.jpeg</td>\n",
       "    </tr>\n",
       "    <tr>\n",
       "      <th>4619</th>\n",
       "      <td>Pneumonia</td>\n",
       "      <td>./chest_xray/train/PNEUMONIA/BACTERIA-6991447-0001.jpeg</td>\n",
       "    </tr>\n",
       "    <tr>\n",
       "      <th>...</th>\n",
       "      <th>...</th>\n",
       "      <td>...</td>\n",
       "      <td>...</td>\n",
       "    </tr>\n",
       "    <tr>\n",
       "      <th rowspan=\"5\" valign=\"top\">test</th>\n",
       "      <th>619</th>\n",
       "      <td>Pneumonia</td>\n",
       "      <td>./chest_xray/test/PNEUMONIA/BACTERIA-9242636-0001.jpeg</td>\n",
       "    </tr>\n",
       "    <tr>\n",
       "      <th>620</th>\n",
       "      <td>Pneumonia</td>\n",
       "      <td>./chest_xray/test/PNEUMONIA/BACTERIA-1602272-0003.jpeg</td>\n",
       "    </tr>\n",
       "    <tr>\n",
       "      <th>621</th>\n",
       "      <td>Pneumonia</td>\n",
       "      <td>./chest_xray/test/PNEUMONIA/VIRUS-4360206-0001.jpeg</td>\n",
       "    </tr>\n",
       "    <tr>\n",
       "      <th>622</th>\n",
       "      <td>Pneumonia</td>\n",
       "      <td>./chest_xray/test/PNEUMONIA/VIRUS-3746644-0001.jpeg</td>\n",
       "    </tr>\n",
       "    <tr>\n",
       "      <th>623</th>\n",
       "      <td>Pneumonia</td>\n",
       "      <td>./chest_xray/test/PNEUMONIA/VIRUS-4190128-0001.jpeg</td>\n",
       "    </tr>\n",
       "  </tbody>\n",
       "</table>\n",
       "<p>5856 rows × 2 columns</p>\n",
       "</div>"
      ],
      "text/plain": [
       "                class                                                    image\n",
       "train 3566  Pneumonia  ./chest_xray/train/PNEUMONIA/BACTERIA-9044474-0002.jpeg\n",
       "      2866  Pneumonia     ./chest_xray/train/PNEUMONIA/VIRUS-6149071-0005.jpeg\n",
       "      2681  Pneumonia  ./chest_xray/train/PNEUMONIA/BACTERIA-3309082-0001.jpeg\n",
       "      1199     Normal       ./chest_xray/train/NORMAL/NORMAL-6433176-0001.jpeg\n",
       "      4619  Pneumonia  ./chest_xray/train/PNEUMONIA/BACTERIA-6991447-0001.jpeg\n",
       "...               ...                                                      ...\n",
       "test  619   Pneumonia   ./chest_xray/test/PNEUMONIA/BACTERIA-9242636-0001.jpeg\n",
       "      620   Pneumonia   ./chest_xray/test/PNEUMONIA/BACTERIA-1602272-0003.jpeg\n",
       "      621   Pneumonia      ./chest_xray/test/PNEUMONIA/VIRUS-4360206-0001.jpeg\n",
       "      622   Pneumonia      ./chest_xray/test/PNEUMONIA/VIRUS-3746644-0001.jpeg\n",
       "      623   Pneumonia      ./chest_xray/test/PNEUMONIA/VIRUS-4190128-0001.jpeg\n",
       "\n",
       "[5856 rows x 2 columns]"
      ]
     },
     "execution_count": 12,
     "metadata": {},
     "output_type": "execute_result"
    }
   ],
   "source": [
    "result"
   ]
  },
  {
   "cell_type": "code",
   "execution_count": 22,
   "id": "edc4ce57",
   "metadata": {},
   "outputs": [],
   "source": [
    "result1=result.reset_index()"
   ]
  },
  {
   "cell_type": "code",
   "execution_count": 20,
   "id": "1b5b215f",
   "metadata": {},
   "outputs": [
    {
     "data": {
      "text/plain": [
       "<AxesSubplot:ylabel='level_0'>"
      ]
     },
     "execution_count": 20,
     "metadata": {},
     "output_type": "execute_result"
    },
    {
     "data": {
      "image/png": "[encoded data removed]",
      "text/plain": [
       "<Figure size 504x360 with 1 Axes>"
      ]
     },
     "metadata": {},
     "output_type": "display_data"
    }
   ],
   "source": [
    "plt.figure(figsize=(7,5))\n",
    "result1['level_0'].value_counts().plot(kind='pie', autopct='%1.1f%%', )\n"
   ]
  },
  {
   "cell_type": "code",
   "execution_count": 13,
   "id": "528eb45e",
   "metadata": {},
   "outputs": [
    {
     "name": "stdout",
     "output_type": "stream",
     "text": [
      "Found 4185 validated image filenames belonging to 2 classes.\n",
      "Found 1047 validated image filenames belonging to 2 classes.\n",
      "Found 624 validated image filenames belonging to 2 classes.\n"
     ]
    }
   ],
   "source": [
    "train_datagen = ImageDataGenerator(rescale=1/255.,\n",
    "                                  zoom_range = 0.1,\n",
    "                                  #rotation_range = 0.1,\n",
    "                                  width_shift_range = 0.1,\n",
    "                                  height_shift_range = 0.1)\n",
    "\n",
    "val_datagen = ImageDataGenerator(rescale=1/255.)\n",
    "\n",
    "ds_train = train_datagen.flow_from_dataframe(train_df,\n",
    "                                             #directory=train_path, #dataframe contains the full paths\n",
    "                                             x_col = 'image',\n",
    "                                             y_col = 'class',\n",
    "                                             target_size = (IMG_SIZE, IMG_SIZE),\n",
    "                                             class_mode = 'binary',\n",
    "                                             batch_size = BATCH,\n",
    "                                             seed = SEED)\n",
    "\n",
    "ds_val = val_datagen.flow_from_dataframe(val_df,\n",
    "                                            #directory=train_path,\n",
    "                                            x_col = 'image',\n",
    "                                            y_col = 'class',\n",
    "                                            target_size = (IMG_SIZE, IMG_SIZE),\n",
    "                                            class_mode = 'binary',\n",
    "                                            batch_size = BATCH,\n",
    "                                            seed = SEED)\n",
    "\n",
    "ds_test = val_datagen.flow_from_dataframe(df_test,\n",
    "                                            #directory=test_path,\n",
    "                                            x_col = 'image',\n",
    "                                            y_col = 'class',\n",
    "                                            target_size = (IMG_SIZE, IMG_SIZE),\n",
    "                                            class_mode = 'binary',\n",
    "                                            batch_size = 1,\n",
    "                                            shuffle = False)"
   ]
  },
  {
   "cell_type": "code",
   "execution_count": 17,
   "id": "fd386e44",
   "metadata": {},
   "outputs": [],
   "source": [
    "early_stopping = callbacks.EarlyStopping(\n",
    "    monitor='val_loss',\n",
    "    patience=5,\n",
    "    min_delta=0.0000001,\n",
    "    restore_best_weights=True,\n",
    ")\n",
    "\n",
    "plateau = callbacks.ReduceLROnPlateau(\n",
    "    monitor='val_loss',\n",
    "    factor = 0.2,                                     \n",
    "    patience = 2,                                   \n",
    "    min_delt = 0.0000001,                                \n",
    "    cooldown = 0,                               \n",
    "    verbose = 1\n",
    ") "
   ]
  },
  {
   "cell_type": "markdown",
   "id": "971cc682",
   "metadata": {},
   "source": [
    "### Transfer Learning"
   ]
  },
  {
   "cell_type": "markdown",
   "id": "69701be1",
   "metadata": {},
   "source": [
    "### ResNet152V2"
   ]
  },
  {
   "cell_type": "code",
   "execution_count": 45,
   "id": "469fb3c1",
   "metadata": {},
   "outputs": [
    {
     "name": "stdout",
     "output_type": "stream",
     "text": [
      "A local file was found, but it seems to be incomplete or outdated because the auto file hash does not match the original value of ed17cf2e0169df9d443503ef94b23b33 so we will re-download the data.\n",
      "Downloading data from https://storage.googleapis.com/tensorflow/keras-applications/resnet/resnet152v2_weights_tf_dim_ordering_tf_kernels_notop.h5\n",
      "234553344/234545216 [==============================] - 251s 1us/step\n"
     ]
    }
   ],
   "source": [
    "base_model = tf.keras.applications.ResNet152V2( #import modele ResnNet152\n",
    "    weights='imagenet',\n",
    "    input_shape=(IMG_SIZE, IMG_SIZE, 3),\n",
    "    include_top=False)\n",
    "\n",
    "base_model.trainable = False\n",
    "\n",
    "def get_pretrained():\n",
    "    \n",
    "    #Input shape = [width, height, color channels]\n",
    "    inputs = layers.Input(shape=(IMG_SIZE, IMG_SIZE, 3))\n",
    "    \n",
    "    x = base_model(inputs)\n",
    "\n",
    "    # Head\n",
    "    x = layers.GlobalAveragePooling2D()(x)\n",
    "    x = layers.Dense(128, activation='relu')(x)\n",
    "    x = layers.Dropout(0.1)(x)\n",
    "    \n",
    "    #Final Layer (Output)\n",
    "    output = layers.Dense(1, activation='sigmoid')(x)\n",
    "    \n",
    "    model = keras.Model(inputs=[inputs], outputs=output)\n",
    "    \n",
    "    return model"
   ]
  },
  {
   "cell_type": "code",
   "execution_count": 46,
   "id": "1a2d8852",
   "metadata": {},
   "outputs": [
    {
     "name": "stdout",
     "output_type": "stream",
     "text": [
      "Model: \"model\"\n",
      "_________________________________________________________________\n",
      "Layer (type)                 Output Shape              Param #   \n",
      "=================================================================\n",
      "input_1 (InputLayer)         [(None, 224, 224, 3)]     0         \n",
      "_________________________________________________________________\n",
      "resnet152v2 (Functional)     (None, 7, 7, 2048)        58331648  \n",
      "_________________________________________________________________\n",
      "global_average_pooling2d (Gl (None, 2048)              0         \n",
      "_________________________________________________________________\n",
      "dense (Dense)                (None, 128)               262272    \n",
      "_________________________________________________________________\n",
      "dropout (Dropout)            (None, 128)               0         \n",
      "_________________________________________________________________\n",
      "dense_1 (Dense)              (None, 1)                 129       \n",
      "=================================================================\n",
      "Total params: 58,594,049\n",
      "Trainable params: 262,401\n",
      "Non-trainable params: 58,331,648\n",
      "_________________________________________________________________\n"
     ]
    }
   ],
   "source": [
    "keras.backend.clear_session()\n",
    "\n",
    "model_pretrained = get_pretrained()\n",
    "model_pretrained.compile(loss='binary_crossentropy'\n",
    "              , optimizer = keras.optimizers.Adam(learning_rate=0.00005), metrics='binary_accuracy')\n",
    "\n",
    "model_pretrained.summary()"
   ]
  },
  {
   "cell_type": "code",
   "execution_count": 49,
   "id": "7e50c39f",
   "metadata": {},
   "outputs": [
    {
     "name": "stdout",
     "output_type": "stream",
     "text": [
      "Epoch 1/50\n",
      "130/130 [==============================] - 569s 4s/step - loss: 0.6299 - binary_accuracy: 0.6533 - val_loss: 0.2258 - val_binary_accuracy: 0.9226\n",
      "Epoch 2/50\n",
      "130/130 [==============================] - 564s 4s/step - loss: 0.2148 - binary_accuracy: 0.9211 - val_loss: 0.1647 - val_binary_accuracy: 0.9341\n",
      "Epoch 3/50\n",
      "130/130 [==============================] - 580s 4s/step - loss: 0.1813 - binary_accuracy: 0.9353 - val_loss: 0.1401 - val_binary_accuracy: 0.9503\n",
      "Epoch 4/50\n",
      "130/130 [==============================] - 585s 4s/step - loss: 0.1603 - binary_accuracy: 0.9373 - val_loss: 0.1356 - val_binary_accuracy: 0.9446\n",
      "Epoch 5/50\n",
      "130/130 [==============================] - 2464s 19s/step - loss: 0.1541 - binary_accuracy: 0.9438 - val_loss: 0.1205 - val_binary_accuracy: 0.9570\n",
      "Epoch 6/50\n",
      "130/130 [==============================] - 607s 5s/step - loss: 0.1429 - binary_accuracy: 0.9521 - val_loss: 0.1102 - val_binary_accuracy: 0.9637\n",
      "Epoch 7/50\n",
      "130/130 [==============================] - 586s 4s/step - loss: 0.1482 - binary_accuracy: 0.9464 - val_loss: 0.1064 - val_binary_accuracy: 0.9608\n",
      "Epoch 8/50\n",
      "130/130 [==============================] - 605s 5s/step - loss: 0.1107 - binary_accuracy: 0.9579 - val_loss: 0.1074 - val_binary_accuracy: 0.9618\n",
      "Epoch 9/50\n",
      "130/130 [==============================] - 7591s 58s/step - loss: 0.1299 - binary_accuracy: 0.9548 - val_loss: 0.0963 - val_binary_accuracy: 0.9666\n",
      "Epoch 10/50\n",
      "130/130 [==============================] - 562s 4s/step - loss: 0.1180 - binary_accuracy: 0.9529 - val_loss: 0.0933 - val_binary_accuracy: 0.9694\n",
      "Epoch 11/50\n",
      "130/130 [==============================] - 596s 5s/step - loss: 0.1223 - binary_accuracy: 0.9544 - val_loss: 0.0908 - val_binary_accuracy: 0.9733\n",
      "Epoch 12/50\n",
      "130/130 [==============================] - 49143s 379s/step - loss: 0.0992 - binary_accuracy: 0.9631 - val_loss: 0.0876 - val_binary_accuracy: 0.9704\n",
      "Epoch 13/50\n",
      "130/130 [==============================] - 1540s 12s/step - loss: 0.1035 - binary_accuracy: 0.9606 - val_loss: 0.0897 - val_binary_accuracy: 0.9733\n",
      "Epoch 14/50\n",
      "130/130 [==============================] - 1538s 12s/step - loss: 0.1011 - binary_accuracy: 0.9592 - val_loss: 0.0905 - val_binary_accuracy: 0.9656\n",
      "\n",
      "Epoch 00014: ReduceLROnPlateau reducing learning rate to 9.999999747378752e-06.\n",
      "Epoch 15/50\n",
      "130/130 [==============================] - 569s 4s/step - loss: 0.0908 - binary_accuracy: 0.9673 - val_loss: 0.0916 - val_binary_accuracy: 0.9637\n",
      "Epoch 16/50\n",
      "130/130 [==============================] - 568s 4s/step - loss: 0.0974 - binary_accuracy: 0.9647 - val_loss: 0.0940 - val_binary_accuracy: 0.9647\n",
      "\n",
      "Epoch 00016: ReduceLROnPlateau reducing learning rate to 1.9999999494757505e-06.\n",
      "Epoch 17/50\n",
      "130/130 [==============================] - 642s 5s/step - loss: 0.1010 - binary_accuracy: 0.9613 - val_loss: 0.0932 - val_binary_accuracy: 0.9647\n"
     ]
    }
   ],
   "source": [
    "history = model_pretrained.fit(ds_train,\n",
    "          batch_size = BATCH, epochs = 50,\n",
    "          validation_data=ds_val,\n",
    "          callbacks=[early_stopping, plateau],\n",
    "          steps_per_epoch=(len(train_df)/BATCH),\n",
    "          validation_steps=(len(val_df)/BATCH));"
   ]
  },
  {
   "cell_type": "code",
   "execution_count": 50,
   "id": "2cb2c628",
   "metadata": {},
   "outputs": [
    {
     "data": {
      "image/png": "[encoded data removed]",
      "text/plain": [
       "<Figure size 1440x576 with 1 Axes>"
      ]
     },
     "metadata": {
      "needs_background": "light"
     },
     "output_type": "display_data"
    }
   ],
   "source": [
    "fig, ax = plt.subplots(figsize=(20,8))\n",
    "sns.lineplot(x = history.epoch, y = history.history['loss'])\n",
    "sns.lineplot(x = history.epoch, y = history.history['val_loss'])\n",
    "ax.set_title('Learning Curve (Loss)')\n",
    "ax.set_ylabel('Loss')\n",
    "ax.set_xlabel('Epoch')\n",
    "ax.set_ylim(0, 0.5)\n",
    "ax.legend(['train', 'val'], loc='best')\n",
    "plt.show()"
   ]
  },
  {
   "cell_type": "code",
   "execution_count": 51,
   "id": "9cd5d543",
   "metadata": {},
   "outputs": [
    {
     "data": {
      "image/png": "[encoded data removed]",
      "text/plain": [
       "<Figure size 1440x576 with 1 Axes>"
      ]
     },
     "metadata": {
      "needs_background": "light"
     },
     "output_type": "display_data"
    }
   ],
   "source": [
    "fig, ax = plt.subplots(figsize=(20,8))\n",
    "sns.lineplot(x = history.epoch, y = history.history['binary_accuracy'])\n",
    "sns.lineplot(x = history.epoch, y = history.history['val_binary_accuracy'])\n",
    "ax.set_title('Learning Curve (Accuracy)')\n",
    "ax.set_ylabel('Accuracy')\n",
    "ax.set_xlabel('Epoch')\n",
    "ax.set_ylim(0.5, 1.0)\n",
    "ax.legend(['train', 'val'], loc='best')\n",
    "plt.show()"
   ]
  },
  {
   "cell_type": "code",
   "execution_count": 52,
   "id": "c5069fb9",
   "metadata": {},
   "outputs": [
    {
     "name": "stdout",
     "output_type": "stream",
     "text": [
      "Val loss: 0.15269556641578674\n",
      "Val accuracy: 0.9283667802810669\n"
     ]
    }
   ],
   "source": [
    "score = model.evaluate(ds_val, steps = len(val_df)/BATCH, verbose = 0)\n",
    "print('Val loss:', score[0])\n",
    "print('Val accuracy:', score[1])"
   ]
  },
  {
   "cell_type": "code",
   "execution_count": 53,
   "id": "57329d52",
   "metadata": {},
   "outputs": [
    {
     "name": "stdout",
     "output_type": "stream",
     "text": [
      "Test loss: 0.21785862743854523\n",
      "Test accuracy: 0.9230769276618958\n"
     ]
    }
   ],
   "source": [
    "score = model.evaluate(ds_test, steps = len(df_test), verbose = 0)\n",
    "\n",
    "print('Test loss:', score[0])\n",
    "print('Test accuracy:', score[1])"
   ]
  },
  {
   "cell_type": "markdown",
   "id": "fe77458c",
   "metadata": {},
   "source": [
    "### Resnet50"
   ]
  },
  {
   "cell_type": "code",
   "execution_count": 20,
   "id": "8721fde2",
   "metadata": {},
   "outputs": [],
   "source": [
    "base_model = tf.keras.applications.ResNet50(\n",
    "    weights='imagenet',\n",
    "    input_shape=(IMG_SIZE, IMG_SIZE, 3),\n",
    "    include_top=False)\n",
    "\n",
    "base_model.trainable = False\n",
    "\n",
    "def get_pretrained():\n",
    "    \n",
    "    #Input shape = [width, height, color channels]\n",
    "    inputs = layers.Input(shape=(IMG_SIZE, IMG_SIZE, 3))\n",
    "    \n",
    "    x = base_model(inputs)\n",
    "\n",
    "    # Head\n",
    "    x = layers.GlobalAveragePooling2D()(x)\n",
    "    x = layers.Dense(128, activation='relu')(x)\n",
    "    x = layers.Dropout(0.1)(x)\n",
    "    \n",
    "    #Final Layer (Output)\n",
    "    output = layers.Dense(1, activation='sigmoid')(x)\n",
    "    \n",
    "    model = keras.Model(inputs=[inputs], outputs=output)\n",
    "    \n",
    "    return model"
   ]
  },
  {
   "cell_type": "code",
   "execution_count": 21,
   "id": "df32eb68",
   "metadata": {},
   "outputs": [
    {
     "name": "stdout",
     "output_type": "stream",
     "text": [
      "Model: \"model\"\n",
      "_________________________________________________________________\n",
      "Layer (type)                 Output Shape              Param #   \n",
      "=================================================================\n",
      "input_1 (InputLayer)         [(None, 224, 224, 3)]     0         \n",
      "_________________________________________________________________\n",
      "resnet50 (Functional)        (None, 7, 7, 2048)        23587712  \n",
      "_________________________________________________________________\n",
      "global_average_pooling2d (Gl (None, 2048)              0         \n",
      "_________________________________________________________________\n",
      "dense (Dense)                (None, 128)               262272    \n",
      "_________________________________________________________________\n",
      "dropout (Dropout)            (None, 128)               0         \n",
      "_________________________________________________________________\n",
      "dense_1 (Dense)              (None, 1)                 129       \n",
      "=================================================================\n",
      "Total params: 23,850,113\n",
      "Trainable params: 262,401\n",
      "Non-trainable params: 23,587,712\n",
      "_________________________________________________________________\n"
     ]
    }
   ],
   "source": [
    "keras.backend.clear_session()\n",
    "\n",
    "model_pretrained = get_pretrained()\n",
    "model_pretrained.compile(loss='binary_crossentropy'\n",
    "              , optimizer = keras.optimizers.Adam(learning_rate=0.00005), metrics='binary_accuracy')\n",
    "\n",
    "model_pretrained.summary()"
   ]
  },
  {
   "cell_type": "code",
   "execution_count": 43,
   "id": "b9f198f0",
   "metadata": {
    "scrolled": true
   },
   "outputs": [
    {
     "name": "stdout",
     "output_type": "stream",
     "text": [
      "Epoch 1/15\n",
      "131/131 - 265s - loss: 0.4456 - accuracy: 0.7780 - precision: 0.8348 - recall: 0.8738 - val_loss: 0.3498 - val_accuracy: 0.8481 - val_precision: 0.9198 - val_recall: 0.8713\n",
      "Epoch 2/15\n",
      "131/131 - 273s - loss: 0.4237 - accuracy: 0.7866 - precision: 0.8450 - recall: 0.8725 - val_loss: 0.3083 - val_accuracy: 0.8606 - val_precision: 0.9029 - val_recall: 0.9099\n",
      "Epoch 3/15\n",
      "131/131 - 285s - loss: 0.4164 - accuracy: 0.7967 - precision: 0.8562 - recall: 0.8725 - val_loss: 0.3005 - val_accuracy: 0.8625 - val_precision: 0.8971 - val_recall: 0.9202\n",
      "Epoch 4/15\n",
      "131/131 - 291s - loss: 0.4045 - accuracy: 0.8096 - precision: 0.8692 - recall: 0.8751 - val_loss: 0.3334 - val_accuracy: 0.8271 - val_precision: 0.8191 - val_recall: 0.9846\n",
      "Epoch 5/15\n",
      "131/131 - 272s - loss: 0.3947 - accuracy: 0.8122 - precision: 0.8616 - recall: 0.8899 - val_loss: 0.4834 - val_accuracy: 0.7603 - val_precision: 0.9870 - val_recall: 0.6860\n",
      "Epoch 6/15\n",
      "131/131 - 275s - loss: 0.3927 - accuracy: 0.8177 - precision: 0.8718 - recall: 0.8844 - val_loss: 0.5884 - val_accuracy: 0.7011 - val_precision: 0.9979 - val_recall: 0.5985\n",
      "Epoch 7/15\n",
      "131/131 - 273s - loss: 0.3787 - accuracy: 0.8251 - precision: 0.8756 - recall: 0.8909 - val_loss: 0.2903 - val_accuracy: 0.8873 - val_precision: 0.9423 - val_recall: 0.9035\n",
      "Epoch 8/15\n",
      "131/131 - 285s - loss: 0.3755 - accuracy: 0.8246 - precision: 0.8739 - recall: 0.8925 - val_loss: 0.2511 - val_accuracy: 0.8911 - val_precision: 0.9311 - val_recall: 0.9215\n",
      "Epoch 9/15\n",
      "131/131 - 283s - loss: 0.3651 - accuracy: 0.8272 - precision: 0.8808 - recall: 0.8873 - val_loss: 0.4695 - val_accuracy: 0.7498 - val_precision: 0.9981 - val_recall: 0.6641\n",
      "Epoch 10/15\n",
      "131/131 - 276s - loss: 0.3590 - accuracy: 0.8299 - precision: 0.8832 - recall: 0.8883 - val_loss: 0.3876 - val_accuracy: 0.8013 - val_precision: 0.9914 - val_recall: 0.7387\n",
      "Epoch 11/15\n",
      "131/131 - 295s - loss: 0.3628 - accuracy: 0.8428 - precision: 0.8951 - recall: 0.8928 - val_loss: 0.2296 - val_accuracy: 0.9093 - val_precision: 0.9499 - val_recall: 0.9266\n",
      "Epoch 12/15\n",
      "131/131 - 275s - loss: 0.3453 - accuracy: 0.8401 - precision: 0.8897 - recall: 0.8957 - val_loss: 0.2664 - val_accuracy: 0.9121 - val_precision: 0.9764 - val_recall: 0.9035\n",
      "Epoch 13/15\n",
      "131/131 - 299s - loss: 0.3475 - accuracy: 0.8349 - precision: 0.8854 - recall: 0.8931 - val_loss: 0.2389 - val_accuracy: 0.8854 - val_precision: 0.8915 - val_recall: 0.9627\n",
      "Epoch 14/15\n",
      "131/131 - 306s - loss: 0.3395 - accuracy: 0.8449 - precision: 0.8847 - recall: 0.9095 - val_loss: 0.3649 - val_accuracy: 0.8309 - val_precision: 0.9918 - val_recall: 0.7786\n",
      "Epoch 15/15\n",
      "131/131 - 300s - loss: 0.3435 - accuracy: 0.8468 - precision: 0.8902 - recall: 0.9053 - val_loss: 0.3116 - val_accuracy: 0.8243 - val_precision: 0.8098 - val_recall: 0.9974\n"
     ]
    }
   ],
   "source": [
    "history2 = model_pretrained.fit(ds_train,\n",
    "          batch_size = BATCH, epochs = 15,\n",
    "          validation_data=ds_val,\n",
    "          callbacks=[early_stopping, plateau],\n",
    "          steps_per_epoch=(len(train_df)/BATCH),\n",
    "          validation_steps=(len(val_df)/BATCH));"
   ]
  },
  {
   "cell_type": "code",
   "execution_count": 48,
   "id": "1e2f9a85",
   "metadata": {},
   "outputs": [
    {
     "data": {
      "image/png": "[encoded data removed]",
      "text/plain": [
       "<Figure size 1440x576 with 1 Axes>"
      ]
     },
     "metadata": {
      "needs_background": "light"
     },
     "output_type": "display_data"
    }
   ],
   "source": [
    "fig, ax = plt.subplots(figsize=(20,8))\n",
    "sns.lineplot(x = history2.epoch, y = history2.history['loss'])\n",
    "sns.lineplot(x = history2.epoch, y = history2.history['val_loss'])\n",
    "ax.set_title('Learning Curve (Loss)')\n",
    "ax.set_ylabel('Loss')\n",
    "ax.set_xlabel('Epoch')\n",
    "ax.set_ylim(0, 0.6)\n",
    "ax.legend(['train', 'val'], loc='best')\n",
    "plt.show()"
   ]
  },
  {
   "cell_type": "code",
   "execution_count": 51,
   "id": "2e9f610b",
   "metadata": {},
   "outputs": [
    {
     "name": "stdout",
     "output_type": "stream",
     "text": [
      "Val loss: 0.31159037351608276\n",
      "Val accuracy: 0.8242598176002502\n"
     ]
    }
   ],
   "source": [
    "score = model2.evaluate(ds_val, steps = len(val_df)/BATCH, verbose = 0)\n",
    "print('Val loss:', score[0])\n",
    "print('Val accuracy:', score[1])"
   ]
  },
  {
   "cell_type": "code",
   "execution_count": 52,
   "id": "fd459208",
   "metadata": {},
   "outputs": [
    {
     "name": "stdout",
     "output_type": "stream",
     "text": [
      "Test loss: 0.6079294681549072\n",
      "Test accuracy: 0.6714743375778198\n"
     ]
    }
   ],
   "source": [
    "score = model2.evaluate(ds_test, steps = len(df_test), verbose = 0)\n",
    "\n",
    "print('Test loss:', score[0])\n",
    "print('Test accuracy:', score[1])"
   ]
  },
  {
   "cell_type": "markdown",
   "id": "1bb17a35",
   "metadata": {},
   "source": [
    "### ResNet101"
   ]
  },
  {
   "cell_type": "code",
   "execution_count": 14,
   "id": "5bc900d9",
   "metadata": {},
   "outputs": [
    {
     "name": "stderr",
     "output_type": "stream",
     "text": [
      "2021-10-28 18:19:37.032756: I tensorflow/core/platform/cpu_feature_guard.cc:142] This TensorFlow binary is optimized with oneAPI Deep Neural Network Library (oneDNN) to use the following CPU instructions in performance-critical operations:  SSE4.1 SSE4.2 AVX AVX2 FMA\n",
      "To enable them in other operations, rebuild TensorFlow with the appropriate compiler flags.\n"
     ]
    },
    {
     "name": "stdout",
     "output_type": "stream",
     "text": [
      "Downloading data from https://storage.googleapis.com/tensorflow/keras-applications/resnet/resnet101_weights_tf_dim_ordering_tf_kernels_notop.h5\n",
      "171450368/171446536 [==============================] - 6s 0us/step\n"
     ]
    }
   ],
   "source": [
    "base_model = tf.keras.applications.ResNet101(\n",
    "    weights='imagenet',\n",
    "    input_shape=(IMG_SIZE, IMG_SIZE, 3),\n",
    "    include_top=False)\n",
    "\n",
    "base_model.trainable = False\n",
    "\n",
    "def get_pretrained():\n",
    "    \n",
    "    #Input shape = [width, height, color channels]\n",
    "    inputs = layers.Input(shape=(IMG_SIZE, IMG_SIZE, 3))\n",
    "    \n",
    "    x = base_model(inputs)\n",
    "\n",
    "    # Head\n",
    "    x = layers.GlobalAveragePooling2D()(x)\n",
    "    x = layers.Dense(128, activation='relu')(x)\n",
    "    x = layers.Dropout(0.1)(x)\n",
    "    \n",
    "    #Final Layer (Output)\n",
    "    output = layers.Dense(1, activation='sigmoid')(x)\n",
    "    \n",
    "    model = keras.Model(inputs=[inputs], outputs=output)\n",
    "    \n",
    "    return model"
   ]
  },
  {
   "cell_type": "code",
   "execution_count": 15,
   "id": "618f5c1d",
   "metadata": {},
   "outputs": [
    {
     "name": "stdout",
     "output_type": "stream",
     "text": [
      "Model: \"model\"\n",
      "_________________________________________________________________\n",
      "Layer (type)                 Output Shape              Param #   \n",
      "=================================================================\n",
      "input_1 (InputLayer)         [(None, 224, 224, 3)]     0         \n",
      "_________________________________________________________________\n",
      "resnet101 (Functional)       (None, 7, 7, 2048)        42658176  \n",
      "_________________________________________________________________\n",
      "global_average_pooling2d (Gl (None, 2048)              0         \n",
      "_________________________________________________________________\n",
      "dense (Dense)                (None, 128)               262272    \n",
      "_________________________________________________________________\n",
      "dropout (Dropout)            (None, 128)               0         \n",
      "_________________________________________________________________\n",
      "dense_1 (Dense)              (None, 1)                 129       \n",
      "=================================================================\n",
      "Total params: 42,920,577\n",
      "Trainable params: 262,401\n",
      "Non-trainable params: 42,658,176\n",
      "_________________________________________________________________\n"
     ]
    }
   ],
   "source": [
    "keras.backend.clear_session()\n",
    "\n",
    "model_pretrained = get_pretrained()\n",
    "model_pretrained.compile(loss='binary_crossentropy'\n",
    "              , optimizer = keras.optimizers.Adam(learning_rate=0.00005), metrics='binary_accuracy')\n",
    "\n",
    "model_pretrained.summary()"
   ]
  },
  {
   "cell_type": "code",
   "execution_count": 19,
   "id": "87147e46",
   "metadata": {},
   "outputs": [
    {
     "name": "stdout",
     "output_type": "stream",
     "text": [
      "Epoch 1/15\n",
      "130/130 [==============================] - 502s 4s/step - loss: 0.5514 - binary_accuracy: 0.7422 - val_loss: 0.5358 - val_binary_accuracy: 0.7421\n",
      "Epoch 2/15\n",
      "130/130 [==============================] - 520s 4s/step - loss: 0.5363 - binary_accuracy: 0.7427 - val_loss: 0.5187 - val_binary_accuracy: 0.7421\n",
      "Epoch 3/15\n",
      "130/130 [==============================] - 524s 4s/step - loss: 0.5206 - binary_accuracy: 0.7424 - val_loss: 0.5038 - val_binary_accuracy: 0.7421\n",
      "Epoch 4/15\n",
      "130/130 [==============================] - 620s 5s/step - loss: 0.5059 - binary_accuracy: 0.7419 - val_loss: 0.4925 - val_binary_accuracy: 0.7421\n",
      "Epoch 5/15\n",
      "130/130 [==============================] - 531s 4s/step - loss: 0.4946 - binary_accuracy: 0.7443 - val_loss: 0.4772 - val_binary_accuracy: 0.7450\n",
      "Epoch 6/15\n",
      "130/130 [==============================] - 554s 4s/step - loss: 0.4804 - binary_accuracy: 0.7467 - val_loss: 0.4653 - val_binary_accuracy: 0.7488\n",
      "Epoch 7/15\n",
      "130/130 [==============================] - 2750s 21s/step - loss: 0.4711 - binary_accuracy: 0.7515 - val_loss: 0.4572 - val_binary_accuracy: 0.7755\n",
      "Epoch 8/15\n",
      "130/130 [==============================] - 876s 7s/step - loss: 0.4653 - binary_accuracy: 0.7556 - val_loss: 0.4450 - val_binary_accuracy: 0.7698\n",
      "Epoch 9/15\n",
      "130/130 [==============================] - 686s 5s/step - loss: 0.4532 - binary_accuracy: 0.7661 - val_loss: 0.4361 - val_binary_accuracy: 0.7775\n",
      "Epoch 10/15\n",
      "130/130 [==============================] - 632s 5s/step - loss: 0.4466 - binary_accuracy: 0.7708 - val_loss: 0.4279 - val_binary_accuracy: 0.7755\n",
      "Epoch 11/15\n",
      "130/130 [==============================] - 654s 5s/step - loss: 0.4385 - binary_accuracy: 0.7701 - val_loss: 0.4197 - val_binary_accuracy: 0.7899\n",
      "Epoch 12/15\n",
      "130/130 [==============================] - 633s 5s/step - loss: 0.4287 - binary_accuracy: 0.7790 - val_loss: 0.4122 - val_binary_accuracy: 0.7908\n",
      "Epoch 13/15\n",
      "130/130 [==============================] - 563s 4s/step - loss: 0.4240 - binary_accuracy: 0.7849 - val_loss: 0.4059 - val_binary_accuracy: 0.7908\n",
      "Epoch 14/15\n",
      "130/130 [==============================] - 609s 5s/step - loss: 0.4181 - binary_accuracy: 0.7826 - val_loss: 0.3996 - val_binary_accuracy: 0.7908\n",
      "Epoch 15/15\n",
      "130/130 [==============================] - 581s 4s/step - loss: 0.4111 - binary_accuracy: 0.7947 - val_loss: 0.3928 - val_binary_accuracy: 0.8042\n"
     ]
    }
   ],
   "source": [
    "history = model_pretrained.fit(ds_train,\n",
    "          batch_size = BATCH, epochs = 15,\n",
    "          validation_data=ds_val,\n",
    "          callbacks=[early_stopping, plateau],\n",
    "          steps_per_epoch=(len(train_df)/BATCH),\n",
    "          validation_steps=(len(val_df)/BATCH));"
   ]
  },
  {
   "cell_type": "code",
   "execution_count": 23,
   "id": "bc408c94",
   "metadata": {},
   "outputs": [
    {
     "data": {
      "image/png": "[encoded data removed]",
      "text/plain": [
       "<Figure size 1440x576 with 1 Axes>"
      ]
     },
     "metadata": {
      "needs_background": "light"
     },
     "output_type": "display_data"
    }
   ],
   "source": [
    "fig, ax = plt.subplots(figsize=(20,8))\n",
    "sns.lineplot(x = history.epoch, y = history.history['loss'])\n",
    "sns.lineplot(x = history.epoch, y = history.history['val_loss'])\n",
    "ax.set_title('Learning Curve (Loss)')\n",
    "ax.set_ylabel('Loss')\n",
    "ax.set_xlabel('Epoch')\n",
    "ax.set_ylim(0, 1)\n",
    "ax.legend(['train', 'val'], loc='best')\n",
    "plt.show()"
   ]
  },
  {
   "cell_type": "code",
   "execution_count": 24,
   "id": "5189289f",
   "metadata": {},
   "outputs": [
    {
     "data": {
      "image/png": "[encoded data removed]",
      "text/plain": [
       "<Figure size 1440x576 with 1 Axes>"
      ]
     },
     "metadata": {
      "needs_background": "light"
     },
     "output_type": "display_data"
    }
   ],
   "source": [
    "fig, ax = plt.subplots(figsize=(20,8))\n",
    "sns.lineplot(x = history.epoch, y = history.history['binary_accuracy'])\n",
    "sns.lineplot(x = history.epoch, y = history.history['val_binary_accuracy'])\n",
    "ax.set_title('Learning Curve (Accuracy)')\n",
    "ax.set_ylabel('Accuracy')\n",
    "ax.set_xlabel('Epoch')\n",
    "ax.set_ylim(0.5, 1.0)\n",
    "ax.legend(['train', 'val'], loc='best')\n",
    "plt.show()"
   ]
  },
  {
   "cell_type": "code",
   "execution_count": 29,
   "id": "2446fbba",
   "metadata": {},
   "outputs": [
    {
     "name": "stdout",
     "output_type": "stream",
     "text": [
      "Val loss: 0.7812575697898865\n",
      "Val accuracy: 0.2578796446323395\n"
     ]
    }
   ],
   "source": [
    "score = model_pretrained.evaluate(ds_val, steps = len(val_df)/BATCH, verbose = 0)\n",
    "print('Val loss:', score[0])\n",
    "print('Val accuracy:', score[1])"
   ]
  },
  {
   "cell_type": "code",
   "execution_count": 28,
   "id": "b558ad91",
   "metadata": {},
   "outputs": [
    {
     "name": "stdout",
     "output_type": "stream",
     "text": [
      "Test loss: 0.7430514097213745\n",
      "Test accuracy: 0.375\n"
     ]
    }
   ],
   "source": [
    "score = model_pretrained.evaluate(ds_test, steps = len(df_test), verbose = 0)\n",
    "print('Test loss:', score[0])\n",
    "print('Test accuracy:', score[1])"
   ]
  },
  {
   "cell_type": "markdown",
   "id": "f4c47ca2",
   "metadata": {},
   "source": [
    "### VGG\n",
    "\n",
    "#### Using pre-trained VGG-16 model.\n",
    "#### Freezing all the layers of model to train.\n",
    "#### Using RMSProp as optimiser\n",
    "#### Also using learning rate decay to optimize the learning process."
   ]
  },
  {
   "cell_type": "code",
   "execution_count": 41,
   "id": "69f2e317",
   "metadata": {},
   "outputs": [
    {
     "name": "stdout",
     "output_type": "stream",
     "text": [
      "Downloading data from https://storage.googleapis.com/tensorflow/keras-applications/vgg16/vgg16_weights_tf_dim_ordering_tf_kernels_notop.h5\n",
      "58892288/58889256 [==============================] - 1s 0us/step\n"
     ]
    }
   ],
   "source": [
    "conv_base = keras.applications.VGG16(include_top = False,weights='imagenet')\n",
    "for i in conv_base.layers:\n",
    "    i.trainable=False\n",
    "X = conv_base.output\n",
    "X = keras.layers.GlobalAveragePooling2D()(X)\n",
    "X = keras.layers.Dense(128,activation='relu')(X)\n",
    "predictions = keras.layers.Dense(1,activation='sigmoid')(X)\n",
    "model= keras.Model(conv_base.input,predictions)\n",
    "initial_learning_rate = 0.1\n",
    "lr_schedule = tf.keras.optimizers.schedules.ExponentialDecay(\n",
    "    initial_learning_rate,\n",
    "    decay_steps=100000,\n",
    "    decay_rate=0.96,\n",
    "    staircase=True)\n",
    "model.compile(loss='binary_crossentropy',\n",
    "             optimizer=tf.keras.optimizers.RMSprop(lr_schedule),\n",
    "             metrics=['accuracy'])"
   ]
  },
  {
   "cell_type": "code",
   "execution_count": 42,
   "id": "6301bee5",
   "metadata": {},
   "outputs": [
    {
     "name": "stdout",
     "output_type": "stream",
     "text": [
      "Model: \"model_1\"\n",
      "_________________________________________________________________\n",
      "Layer (type)                 Output Shape              Param #   \n",
      "=================================================================\n",
      "input_2 (InputLayer)         [(None, None, None, 3)]   0         \n",
      "_________________________________________________________________\n",
      "block1_conv1 (Conv2D)        (None, None, None, 64)    1792      \n",
      "_________________________________________________________________\n",
      "block1_conv2 (Conv2D)        (None, None, None, 64)    36928     \n",
      "_________________________________________________________________\n",
      "block1_pool (MaxPooling2D)   (None, None, None, 64)    0         \n",
      "_________________________________________________________________\n",
      "block2_conv1 (Conv2D)        (None, None, None, 128)   73856     \n",
      "_________________________________________________________________\n",
      "block2_conv2 (Conv2D)        (None, None, None, 128)   147584    \n",
      "_________________________________________________________________\n",
      "block2_pool (MaxPooling2D)   (None, None, None, 128)   0         \n",
      "_________________________________________________________________\n",
      "block3_conv1 (Conv2D)        (None, None, None, 256)   295168    \n",
      "_________________________________________________________________\n",
      "block3_conv2 (Conv2D)        (None, None, None, 256)   590080    \n",
      "_________________________________________________________________\n",
      "block3_conv3 (Conv2D)        (None, None, None, 256)   590080    \n",
      "_________________________________________________________________\n",
      "block3_pool (MaxPooling2D)   (None, None, None, 256)   0         \n",
      "_________________________________________________________________\n",
      "block4_conv1 (Conv2D)        (None, None, None, 512)   1180160   \n",
      "_________________________________________________________________\n",
      "block4_conv2 (Conv2D)        (None, None, None, 512)   2359808   \n",
      "_________________________________________________________________\n",
      "block4_conv3 (Conv2D)        (None, None, None, 512)   2359808   \n",
      "_________________________________________________________________\n",
      "block4_pool (MaxPooling2D)   (None, None, None, 512)   0         \n",
      "_________________________________________________________________\n",
      "block5_conv1 (Conv2D)        (None, None, None, 512)   2359808   \n",
      "_________________________________________________________________\n",
      "block5_conv2 (Conv2D)        (None, None, None, 512)   2359808   \n",
      "_________________________________________________________________\n",
      "block5_conv3 (Conv2D)        (None, None, None, 512)   2359808   \n",
      "_________________________________________________________________\n",
      "block5_pool (MaxPooling2D)   (None, None, None, 512)   0         \n",
      "_________________________________________________________________\n",
      "global_average_pooling2d_1 ( (None, 512)               0         \n",
      "_________________________________________________________________\n",
      "dense_2 (Dense)              (None, 128)               65664     \n",
      "_________________________________________________________________\n",
      "dense_3 (Dense)              (None, 1)                 129       \n",
      "=================================================================\n",
      "Total params: 14,780,481\n",
      "Trainable params: 65,793\n",
      "Non-trainable params: 14,714,688\n",
      "_________________________________________________________________\n"
     ]
    }
   ],
   "source": [
    "model.summary()"
   ]
  },
  {
   "cell_type": "code",
   "execution_count": 43,
   "id": "32c2fa54",
   "metadata": {
    "scrolled": true
   },
   "outputs": [
    {
     "name": "stdout",
     "output_type": "stream",
     "text": [
      "Epoch 1/15\n",
      "130/130 [==============================] - 1323s 10s/step - loss: 3.4698 - accuracy: 0.6944 - val_loss: 0.2574 - val_accuracy: 0.9064\n",
      "Epoch 2/15\n",
      "130/130 [==============================] - 577s 4s/step - loss: 0.3138 - accuracy: 0.8672 - val_loss: 0.1766 - val_accuracy: 0.9379\n",
      "Epoch 3/15\n",
      "130/130 [==============================] - 1119s 9s/step - loss: 0.2862 - accuracy: 0.8855 - val_loss: 0.1511 - val_accuracy: 0.9542\n",
      "Epoch 4/15\n",
      "130/130 [==============================] - 1318s 10s/step - loss: 0.2698 - accuracy: 0.8962 - val_loss: 0.1604 - val_accuracy: 0.9417\n",
      "Epoch 5/15\n",
      "130/130 [==============================] - 571s 4s/step - loss: 0.2460 - accuracy: 0.9085 - val_loss: 0.1332 - val_accuracy: 0.9580\n",
      "Epoch 6/15\n",
      "130/130 [==============================] - 574s 4s/step - loss: 0.2485 - accuracy: 0.9087 - val_loss: 0.1736 - val_accuracy: 0.9312\n",
      "Epoch 7/15\n",
      "130/130 [==============================] - 605s 5s/step - loss: 0.2104 - accuracy: 0.9254 - val_loss: 0.1658 - val_accuracy: 0.9360\n",
      "Epoch 8/15\n",
      "130/130 [==============================] - 700s 5s/step - loss: 0.1955 - accuracy: 0.9241 - val_loss: 0.1085 - val_accuracy: 0.9628\n",
      "Epoch 9/15\n",
      "130/130 [==============================] - 755s 6s/step - loss: 0.1826 - accuracy: 0.9324 - val_loss: 0.3879 - val_accuracy: 0.8262\n",
      "Epoch 10/15\n",
      "130/130 [==============================] - 804s 6s/step - loss: 0.1944 - accuracy: 0.9260 - val_loss: 0.1030 - val_accuracy: 0.9647\n",
      "Epoch 11/15\n",
      "130/130 [==============================] - 1002s 8s/step - loss: 0.2022 - accuracy: 0.9230 - val_loss: 0.1068 - val_accuracy: 0.9608\n",
      "Epoch 12/15\n",
      "130/130 [==============================] - 822s 6s/step - loss: 0.1796 - accuracy: 0.9328 - val_loss: 0.1141 - val_accuracy: 0.9589\n",
      "Epoch 13/15\n",
      "130/130 [==============================] - 728s 6s/step - loss: 0.2108 - accuracy: 0.9375 - val_loss: 0.1017 - val_accuracy: 0.9618\n",
      "Epoch 14/15\n",
      "130/130 [==============================] - 703s 5s/step - loss: 0.1616 - accuracy: 0.9445 - val_loss: 0.1847 - val_accuracy: 0.9274\n",
      "Epoch 15/15\n",
      "130/130 [==============================] - 708s 5s/step - loss: 0.1550 - accuracy: 0.9453 - val_loss: 0.2762 - val_accuracy: 0.8816\n"
     ]
    }
   ],
   "source": [
    "history = model.fit(ds_train,\n",
    "          batch_size = BATCH, epochs = 15,\n",
    "          validation_data=ds_val,\n",
    "          steps_per_epoch=(len(train_df)/BATCH),\n",
    "          validation_steps=(len(val_df)/BATCH));"
   ]
  },
  {
   "cell_type": "code",
   "execution_count": 44,
   "id": "73fcded6",
   "metadata": {},
   "outputs": [
    {
     "data": {
      "image/png": "[encoded data removed]",
      "text/plain": [
       "<Figure size 1440x576 with 1 Axes>"
      ]
     },
     "metadata": {
      "needs_background": "light"
     },
     "output_type": "display_data"
    }
   ],
   "source": [
    "fig, ax = plt.subplots(figsize=(20,8))\n",
    "sns.lineplot(x = history.epoch, y = history.history['loss'])\n",
    "sns.lineplot(x = history.epoch, y = history.history['val_loss'])\n",
    "ax.set_title('Learning Curve (Loss)')\n",
    "ax.set_ylabel('Loss')\n",
    "ax.set_xlabel('Epoch')\n",
    "ax.set_ylim(0, 1)\n",
    "ax.legend(['train', 'val'], loc='best')\n",
    "plt.show()"
   ]
  },
  {
   "cell_type": "code",
   "execution_count": 46,
   "id": "c8a7bc23",
   "metadata": {},
   "outputs": [
    {
     "name": "stdout",
     "output_type": "stream",
     "text": [
      "Val loss: 0.7812575697898865\n",
      "Val accuracy: 0.2578796446323395\n"
     ]
    }
   ],
   "source": [
    "score = model_pretrained.evaluate(ds_val, steps = len(val_df)/BATCH, verbose = 0)\n",
    "print('Val loss:', score[0])\n",
    "print('Val accuracy:', score[1])"
   ]
  },
  {
   "cell_type": "code",
   "execution_count": 48,
   "id": "8b87d182",
   "metadata": {},
   "outputs": [
    {
     "name": "stdout",
     "output_type": "stream",
     "text": [
      "Test loss: 0.7430514097213745\n",
      "Test accuracy: 0.375\n"
     ]
    }
   ],
   "source": [
    "score = model_pretrained.evaluate(ds_test, steps = len(df_test), verbose = 0)\n",
    "print('Test loss:', score[0])\n",
    "print('Test accuracy:', score[1])"
   ]
  },
  {
   "cell_type": "code",
   "execution_count": null,
   "id": "93321ec5",
   "metadata": {},
   "outputs": [],
   "source": []
  }
 ],
 "metadata": {
  "kernelspec": {
   "display_name": "Python 3 (ipykernel)",
   "language": "python",
   "name": "python3"
  },
  "language_info": {
   "codemirror_mode": {
    "name": "ipython",
    "version": 3
   },
   "file_extension": ".py",
   "mimetype": "text/x-python",
   "name": "python",
   "nbconvert_exporter": "python",
   "pygments_lexer": "ipython3",
   "version": "3.8.12"
  }
 },
 "nbformat": 4,
 "nbformat_minor": 5
}
